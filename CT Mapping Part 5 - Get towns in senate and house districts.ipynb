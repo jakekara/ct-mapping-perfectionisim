{
 "cells": [
  {
   "cell_type": "code",
   "execution_count": 1,
   "metadata": {
    "collapsed": true
   },
   "outputs": [],
   "source": [
    "import pandas as pd"
   ]
  },
  {
   "cell_type": "code",
   "execution_count": 2,
   "metadata": {
    "collapsed": true
   },
   "outputs": [],
   "source": [
    "senate_url = \"https://en.wikipedia.org/wiki/Connecticut_Senate\"\n",
    "house_url = \"https://en.wikipedia.org/wiki/Connecticut_House_of_Representatives\""
   ]
  },
  {
   "cell_type": "code",
   "execution_count": 34,
   "metadata": {
    "collapsed": true
   },
   "outputs": [],
   "source": [
    "def town_list(liststr):\n",
    "    ret = liststr.split(\",\")\n",
    "    ret = map(lambda x: x.replace(\" (part)\",\"\").strip(), ret)\n",
    "    return ret"
   ]
  },
  {
   "cell_type": "code",
   "execution_count": 29,
   "metadata": {
    "collapsed": false
   },
   "outputs": [
    {
     "data": {
      "text/html": [
       "<div>\n",
       "<style scoped>\n",
       "    .dataframe tbody tr th:only-of-type {\n",
       "        vertical-align: middle;\n",
       "    }\n",
       "\n",
       "    .dataframe tbody tr th {\n",
       "        vertical-align: top;\n",
       "    }\n",
       "\n",
       "    .dataframe thead th {\n",
       "        text-align: right;\n",
       "    }\n",
       "</style>\n",
       "<table border=\"1\" class=\"dataframe\">\n",
       "  <thead>\n",
       "    <tr style=\"text-align: right;\">\n",
       "      <th></th>\n",
       "      <th>district</th>\n",
       "      <th>towns</th>\n",
       "    </tr>\n",
       "  </thead>\n",
       "  <tbody>\n",
       "    <tr>\n",
       "      <th>1</th>\n",
       "      <td>1</td>\n",
       "      <td>Hartford (part), Wethersfield (part)</td>\n",
       "    </tr>\n",
       "    <tr>\n",
       "      <th>2</th>\n",
       "      <td>2</td>\n",
       "      <td>Bloomfield (part), Hartford (part), Windsor (p...</td>\n",
       "    </tr>\n",
       "    <tr>\n",
       "      <th>3</th>\n",
       "      <td>3</td>\n",
       "      <td>East Hartford, East Windsor, Ellington (part),...</td>\n",
       "    </tr>\n",
       "    <tr>\n",
       "      <th>4</th>\n",
       "      <td>4</td>\n",
       "      <td>Andover, Bolton, Glastonbury, Manchester</td>\n",
       "    </tr>\n",
       "    <tr>\n",
       "      <th>5</th>\n",
       "      <td>5</td>\n",
       "      <td>Bloomfield (part), Burlington, Farmington (par...</td>\n",
       "    </tr>\n",
       "  </tbody>\n",
       "</table>\n",
       "</div>"
      ],
      "text/plain": [
       "  district                                              towns\n",
       "1        1               Hartford (part), Wethersfield (part)\n",
       "2        2  Bloomfield (part), Hartford (part), Windsor (p...\n",
       "3        3  East Hartford, East Windsor, Ellington (part),...\n",
       "4        4           Andover, Bolton, Glastonbury, Manchester\n",
       "5        5  Bloomfield (part), Burlington, Farmington (par..."
      ]
     },
     "execution_count": 29,
     "metadata": {},
     "output_type": "execute_result"
    }
   ],
   "source": [
    "def sen_df():\n",
    "    tables = pd.read_html(senate_url)\n",
    "    for i in range(len(tables)):\n",
    "        #print (i, len(tables[i]))\n",
    "        pass\n",
    "\n",
    "    df = tables[4]\n",
    "\n",
    "    df.columns = df.iloc[0]\n",
    "    df = df.reindex(df.index.drop(0))[[\"District\",\"Towns represented\"]]\n",
    "    df.columns = \"district\",\"towns\"\n",
    "    \n",
    "    df[\"towns\"] = df[\"towns\"].apply(town_list)\n",
    "    return df\n",
    "\n",
    "senate = sen_df()\n",
    "senate.head()"
   ]
  },
  {
   "cell_type": "code",
   "execution_count": 47,
   "metadata": {
    "collapsed": false
   },
   "outputs": [],
   "source": [
    "def chamber_df(url=senate_url, town_col=\"Towns represented\"):\n",
    "    tables = pd.read_html(url)\n",
    "    for i in range(len(tables)):\n",
    "        #print (i, len(tables[i]))\n",
    "        pass\n",
    "\n",
    "    df = tables[4]\n",
    "\n",
    "    df.columns = df.iloc[0]\n",
    "    df = df.reindex(df.index.drop(0))[[\"District\",town_col]]\n",
    "    df.columns = \"district\",\"towns\"\n",
    "    \n",
    "    df[\"towns\"] = df[\"towns\"].apply(town_list)\n",
    "    return df\n",
    "\n",
    "senate = chamber_df()\n",
    "house = chamber_df(url=house_url, town_col=\"Cities/towns represented\")\n"
   ]
  },
  {
   "cell_type": "code",
   "execution_count": 48,
   "metadata": {
    "collapsed": false
   },
   "outputs": [
    {
     "data": {
      "text/html": [
       "<div>\n",
       "<style scoped>\n",
       "    .dataframe tbody tr th:only-of-type {\n",
       "        vertical-align: middle;\n",
       "    }\n",
       "\n",
       "    .dataframe tbody tr th {\n",
       "        vertical-align: top;\n",
       "    }\n",
       "\n",
       "    .dataframe thead th {\n",
       "        text-align: right;\n",
       "    }\n",
       "</style>\n",
       "<table border=\"1\" class=\"dataframe\">\n",
       "  <thead>\n",
       "    <tr style=\"text-align: right;\">\n",
       "      <th></th>\n",
       "      <th>district</th>\n",
       "      <th>towns</th>\n",
       "    </tr>\n",
       "  </thead>\n",
       "  <tbody>\n",
       "    <tr>\n",
       "      <th>1</th>\n",
       "      <td>1</td>\n",
       "      <td>[Hartford]</td>\n",
       "    </tr>\n",
       "    <tr>\n",
       "      <th>3</th>\n",
       "      <td>3</td>\n",
       "      <td>[Hartford]</td>\n",
       "    </tr>\n",
       "    <tr>\n",
       "      <th>4</th>\n",
       "      <td>4</td>\n",
       "      <td>[Hartford]</td>\n",
       "    </tr>\n",
       "    <tr>\n",
       "      <th>5</th>\n",
       "      <td>5</td>\n",
       "      <td>[Hartford, Windsor]</td>\n",
       "    </tr>\n",
       "    <tr>\n",
       "      <th>6</th>\n",
       "      <td>6</td>\n",
       "      <td>[Hartford]</td>\n",
       "    </tr>\n",
       "    <tr>\n",
       "      <th>7</th>\n",
       "      <td>7</td>\n",
       "      <td>[Hartford]</td>\n",
       "    </tr>\n",
       "  </tbody>\n",
       "</table>\n",
       "</div>"
      ],
      "text/plain": [
       "  district                towns\n",
       "1        1           [Hartford]\n",
       "3        3           [Hartford]\n",
       "4        4           [Hartford]\n",
       "5        5  [Hartford, Windsor]\n",
       "6        6           [Hartford]\n",
       "7        7           [Hartford]"
      ]
     },
     "execution_count": 48,
     "metadata": {},
     "output_type": "execute_result"
    }
   ],
   "source": [
    "house[house[\"towns\"].apply(lambda x: \"Hartford\" in x)]"
   ]
  },
  {
   "cell_type": "code",
   "execution_count": null,
   "metadata": {
    "collapsed": true
   },
   "outputs": [],
   "source": []
  },
  {
   "cell_type": "code",
   "execution_count": null,
   "metadata": {
    "collapsed": true
   },
   "outputs": [],
   "source": []
  }
 ],
 "metadata": {
  "kernelspec": {
   "display_name": "Python 2",
   "language": "python",
   "name": "python2"
  },
  "language_info": {
   "codemirror_mode": {
    "name": "ipython",
    "version": 2
   },
   "file_extension": ".py",
   "mimetype": "text/x-python",
   "name": "python",
   "nbconvert_exporter": "python",
   "pygments_lexer": "ipython2",
   "version": "2.7.13"
  }
 },
 "nbformat": 4,
 "nbformat_minor": 0
}
